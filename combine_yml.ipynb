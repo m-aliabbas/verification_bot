{
 "cells": [
  {
   "cell_type": "code",
   "execution_count": 1,
   "metadata": {},
   "outputs": [],
   "source": [
    "import yaml\n"
   ]
  },
  {
   "cell_type": "code",
   "execution_count": 24,
   "metadata": {},
   "outputs": [
    {
     "name": "stdout",
     "output_type": "stream",
     "text": [
      "nlu1\n",
      "nlu2\n",
      "nlu3\n"
     ]
    }
   ],
   "source": [
    "combine = {'nlu':{}}\n",
    "data_files = ['nlu1','nlu2','nlu3']\n",
    "for i in data_files:\n",
    "    print(i)\n",
    "    with open(f'data/{i}.yml', 'r') as file:\n",
    "        data1 = yaml.safe_load(file)['nlu']\n",
    "        for intent in data1:\n",
    "            ret_intent = combine['nlu'].get(intent['intent'],None)\n",
    "            if not ret_intent:\n",
    "                combine['nlu'][intent['intent']]= intent\n",
    "            else:\n",
    "               combine['nlu'][intent['intent']]['examples'] += '\\n' + intent['examples']"
   ]
  },
  {
   "cell_type": "code",
   "execution_count": 27,
   "metadata": {},
   "outputs": [],
   "source": [
    "combine['version'] = \"3.1\""
   ]
  },
  {
   "cell_type": "code",
   "execution_count": 28,
   "metadata": {},
   "outputs": [],
   "source": [
    "import yaml"
   ]
  },
  {
   "cell_type": "code",
   "execution_count": 29,
   "metadata": {},
   "outputs": [],
   "source": [
    "yaml_str = yaml.dump(combine)"
   ]
  },
  {
   "cell_type": "code",
   "execution_count": 30,
   "metadata": {},
   "outputs": [
    {
     "data": {
      "text/plain": [
       "\"nlu:\\n  affirmation:\\n    examples: '# Formal Affirmation (ASR Style)\\n\\n      - Yes indeed I agree\\n\\n      - Certainly that''s correct\\n\\n      - Absolutely sure\\n\\n      - I concur with that\\n\\n      - That is correct I believe\\n\\n      - I agree with you\\n\\n      - Undoubtedly yes\\n\\n      - Precisely that''s right\\n\\n      - Affirmative I confirm\\n\\n      - Indeed that''s true\\n\\n      - Yeah sure\\n\\n      - Yup got it\\n\\n      - Sure thing\\n\\n      - Alright then\\n\\n      - Yep that''s right\\n\\n      - Okay sounds good\\n\\n      - Sounds good to me\\n\\n      - For sure no problem\\n\\n      - Totally agree\\n\\n      - Absolutely yes\\n\\n\\n      # Formal Affirmation (ASR Style)\\n\\n      - Yes indeed I agree\\n\\n      - Certainly that''s correct\\n\\n      - Absolutely sure\\n\\n      - I concur with that\\n\\n      - That is correct I believe\\n\\n      - I agree with you\\n\\n      - Undoubtedly yes\\n\\n      - Precisely that''s right\\n\\n      - Affirmative I confirm\\n\\n      - Indeed that''s true\\n\\n\\n      # Casual Affirmation (ASR Style)\\n\\n      - Yeah sure\\n\\n      - Yup got it\\n\\n      - Sure thing\\n\\n      - Alright then\\n\\n      - Yep that''s right\\n\\n      - Okay sounds good\\n\\n      - Sounds good to me\\n\\n      - For sure no problem\\n\\n      - Totally agree\\n\\n      - Absolutely yes\\n\\n\\n      # Formal Affirmation\\n\\n      - Yes, indeed\\n\\n      - Certainly\\n\\n      - Absolutely\\n\\n      - I concur\\n\\n      - That is correct\\n\\n      - I agree\\n\\n      - Undoubtedly\\n\\n      - Precisely\\n\\n      - Affirmative\\n\\n      - Indeed\\n\\n\\n      # Casual Affirmation\\n\\n      - Yeah\\n\\n      - Yup\\n\\n      - Sure\\n\\n      - Alright\\n\\n      - Yep\\n\\n      - Okay\\n\\n      - Sounds good\\n\\n      - For sure\\n\\n      - Totally\\n\\n      - Absolutely\\n\\n      '\\n    intent: affirmation\\n  decline:\\n    examples: '# Formal Decline (ASR Style)\\n\\n      - No thank you I must decline\\n\\n      - I am afraid that''s not right\\n\\n      - Unfortunately no not this time\\n\\n      - I cannot agree with that\\n\\n      - That will not be possible for me\\n\\n      - I do not agree with that\\n\\n      - I must disagree with you\\n\\n      - That is incorrect I believe\\n\\n      - I am sorry but no\\n\\n      - Nah not really\\n\\n      - Nope don''t think so\\n\\n      - No way not happening\\n\\n      - Not really sure about that\\n\\n      - Don''t think so no\\n\\n      - Uh-uh not for me\\n\\n      - Nope sorry not now\\n\\n      - Not happening nope\\n\\n      - No thanks not now\\n\\n      - Not a chance no way\\n\\n\\n      # Formal Decline (ASR Style)\\n\\n      - No thank you I must decline\\n\\n      - I am afraid that''s not right\\n\\n      - Unfortunately no not this time\\n\\n      - I cannot agree with that\\n\\n      - That will not be possible for me\\n\\n      - I do not agree with that\\n\\n      - I must disagree with you\\n\\n      - That is incorrect I believe\\n\\n      - I am sorry but no\\n\\n\\n      # Casual Decline (ASR Style)\\n\\n      - Nah not really\\n\\n      - Nope don''t think so\\n\\n      - No way not happening\\n\\n      - Not really sure about that\\n\\n      - Don''t think so no\\n\\n      - Uh-uh not for me\\n\\n      - Nope sorry not now\\n\\n      - Not happening nope\\n\\n      - No thanks not now\\n\\n      - Not a chance no way\\n\\n\\n      # Formal Decline\\n\\n      - No, thank you\\n\\n      - I must decline\\n\\n      - Regrettably, no\\n\\n      - I am afraid not\\n\\n      - Unfortunately, no\\n\\n      - I cannot\\n\\n      - That will not be possible\\n\\n      - I do not agree\\n\\n      - I must disagree\\n\\n      - That is incorrect\\n\\n\\n      # Casual Decline\\n\\n      - Nah\\n\\n      - Nope\\n\\n      - No way\\n\\n      - Not really\\n\\n      - Don''t think so\\n\\n      - Uh-uh\\n\\n      - Nope, sorry\\n\\n      - Not happening\\n\\n      - No thanks\\n\\n      - Not a chance\\n\\n      '\\n    intent: decline\\n  greetings:\\n    examples: '- Hello good morning\\n\\n      - Hello good afternoon\\n\\n      - Good evening to you\\n\\n      - Greetings everyone\\n\\n      - I am pleased to meet you all\\n\\n      - It is a pleasure meeting you\\n\\n      - How do you do\\n\\n      - I greet all of you\\n\\n      - Salutations to everyone\\n\\n      - Hi there\\n\\n      - Hey how''s it going\\n\\n      - What''s up everyone\\n\\n      - How''s it going for you\\n\\n      - Yo what''s happening\\n\\n      - Hey there folks\\n\\n      - Hiya all\\n\\n      - Howdy friends\\n\\n      - Sup you guys\\n\\n      - Heya everyone\\n\\n\\n      # Formal Greetings (ASR Style)\\n\\n      - Hello good morning\\n\\n      - Hello good afternoon\\n\\n      - Good evening to you\\n\\n      - Greetings everyone\\n\\n      - I am pleased to meet you all\\n\\n      - It is a pleasure meeting you\\n\\n      - How do you do\\n\\n      - I greet all of you\\n\\n      - Salutations to everyone\\n\\n\\n      # Casual Greetings (ASR Style)\\n\\n      - Hi there\\n\\n      - Hey how''s it going\\n\\n      - What''s up everyone\\n\\n      - How''s it going for you\\n\\n      - Yo what''s happening\\n\\n      - Hey there folks\\n\\n      - Hiya all\\n\\n      - Howdy friends\\n\\n      - Sup you guys\\n\\n      - Heya everyone\\n\\n\\n      # Formal Greetings\\n\\n      - Good morning\\n\\n      - Good afternoon\\n\\n      - Good evening\\n\\n      - Hello\\n\\n      - Greetings\\n\\n      - I am pleased to meet you\\n\\n      - It is a pleasure to meet you\\n\\n      - How do you do?\\n\\n      - I greet you\\n\\n      - Salutations\\n\\n\\n      # Casual Greetings\\n\\n      - Hi\\n\\n      - Hey\\n\\n      - What''s up?\\n\\n      - How''s it going?\\n\\n      - Yo\\n\\n      - Hey there\\n\\n      - Hiya\\n\\n      - Howdy\\n\\n      - Sup\\n\\n      - Heya\\n\\n      '\\n    intent: greetings\\n  provide_address:\\n    examples: '# Formal Address Providing (ASR Style)\\n\\n      - My current residence is at [123 Park Avenue, Springfield](address)\\n\\n      - I reside at [456 Elm Street, Riverside](address)\\n\\n      - My home address is [789 Maple Lane, Oakwood](address)\\n\\n      - You may send it to [101 Pine Street, Hillcrest](address)\\n\\n      - Please forward it to [202 Birch Road, Greenfield](address)\\n\\n      - I live at [303 Cedar Avenue, Westwood](address)\\n\\n      - My domicile is [404 Oak Lane, Eastview](address)\\n\\n      - I inhabit [505 Cherry Drive, Northtown](address)\\n\\n      - My place of residence is [606 Walnut Circle, Southville](address)\\n\\n      - My abode is at [707 Aspen Court, Lakeview](address)\\n\\n      - I''m at [123 Park Ave, Springfield](address)\\n\\n      - My place is [456 Elm St, Riverside](address)\\n\\n      - Living at [789 Maple Ln, Oakwood](address)\\n\\n      - Send it to [101 Pine St, Hillcrest](address)\\n\\n      - You can find me at [202 Birch Rd, Greenfield](address)\\n\\n      - I stay at [303 Cedar Ave, Westwood](address)\\n\\n      - My spot is [404 Oak Ln, Eastview](address)\\n\\n      - I''m over at [505 Cherry Dr, Northtown](address)\\n\\n      - Home is [606 Walnut Cir, Southville](address)\\n\\n      - I''m living at [707 Aspen Ct, Lakeview](address)\\n\\n\\n      # Formal Address Providing (ASR Style)\\n\\n      - My current residence is at [123 Park Avenue, Springfield](address)\\n\\n      - I reside at [456 Elm Street, Riverside](address)\\n\\n      - My home address is [789 Maple Lane, Oakwood](address)\\n\\n      - You may send it to [101 Pine Street, Hillcrest](address)\\n\\n      - Please forward it to [202 Birch Road, Greenfield](address)\\n\\n      - I live at [303 Cedar Avenue, Westwood](address)\\n\\n      - My domicile is [404 Oak Lane, Eastview](address)\\n\\n      - I inhabit [505 Cherry Drive, Northtown](address)\\n\\n      - My place of residence is [606 Walnut Circle, Southville](address)\\n\\n      - My abode is at [707 Aspen Court, Lakeview](address)\\n\\n\\n      # Casual Address Providing (ASR Style)\\n\\n      - I''m at [123 Park Ave, Springfield](address)\\n\\n      - My place is [456 Elm St, Riverside](address)\\n\\n      - Living at [789 Maple Ln, Oakwood](address)\\n\\n      - Send it to [101 Pine St, Hillcrest](address)\\n\\n      - You can find me at [202 Birch Rd, Greenfield](address)\\n\\n      - I stay at [303 Cedar Ave, Westwood](address)\\n\\n      - My spot is [404 Oak Ln, Eastview](address)\\n\\n      - I''m over at [505 Cherry Dr, Northtown](address)\\n\\n      - Home is [606 Walnut Cir, Southville](address)\\n\\n      - I''m living at [707 Aspen Ct, Lakeview](address)\\n\\n\\n      # Formal Address Providing\\n\\n      - My current residence is at [123 Park Avenue, Springfield](address)\\n\\n      - I reside at [456 Elm Street, Riverside](address)\\n\\n      - My home address is [789 Maple Lane, Oakwood](address)\\n\\n      - You may send it to [101 Pine Street, Hillcrest](address)\\n\\n      - Please forward it to [202 Birch Road, Greenfield](address)\\n\\n      - I live at [303 Cedar Avenue, Westwood](address)\\n\\n      - My domicile is [404 Oak Lane, Eastview](address)\\n\\n      - I inhabit [505 Cherry Drive, Northtown](address)\\n\\n      - My place of residence is [606 Walnut Circle, Southville](address)\\n\\n      - My abode is at [707 Aspen Court, Lakeview](address)\\n\\n\\n      # Casual Address Providing\\n\\n      - I''m at [123 Park Ave, Springfield](address)\\n\\n      - My place is [456 Elm St, Riverside](address)\\n\\n      - Living at [789 Maple Ln, Oakwood](address)\\n\\n      - Send it to [101 Pine St, Hillcrest](address)\\n\\n      - You can find me at [202 Birch Rd, Greenfield](address)\\n\\n      - I stay at [303 Cedar Ave, Westwood](address)\\n\\n      - My spot is [404 Oak Ln, Eastview](address)\\n\\n      - I''m over at [505 Cherry Dr, Northtown](address)\\n\\n      - Home is [606 Walnut Cir, Southville](address)\\n\\n      - I''m living at [707 Aspen Ct, Lakeview](address)\\n\\n      '\\n    intent: provide_address\\n  provide_name:\\n    examples: '# Formal Name Providing (ASR Style)\\n\\n      - My name is [John Doe](name)\\n\\n      - I am [Elizabeth Smith](name)\\n\\n      - You may call me [Mr. James Brown](name)\\n\\n      - I am [Dr. Sarah Johnson](name)\\n\\n      - Please address me as [Professor Emma Wilson](name)\\n\\n      - I am known as [Mrs. Olivia Martin](name)\\n\\n      - My full name is [Christopher Davis](name)\\n\\n      - I am [Sophia Garcia](name)\\n\\n      - Call me [Michael Miller](name)\\n\\n      - I go by the name of [Grace Rodriguez](name)\\n\\n      - I''m [Mike](name)\\n\\n      - Call me [Liz](name)\\n\\n      - This is [Jim](name)\\n\\n      - It''s [Sarah](name)\\n\\n      - Just [Emma](name) here\\n\\n      - I go by [Liv](name)\\n\\n      - People know me as [Chris](name)\\n\\n      - I''m [Soph](name)\\n\\n      - You can call me [Mike](name)\\n\\n      - My friends call me [Gracie](name)\\n\\n\\n      # Formal Name Providing (ASR Style)\\n\\n      - My name is [John Doe](name)\\n\\n      - I am [Elizabeth Smith](name)\\n\\n      - You may call me [Mr. James Brown](name)\\n\\n      - I am [Dr. Sarah Johnson](name)\\n\\n      - Please address me as [Professor Emma Wilson](name)\\n\\n      - I am known as [Mrs. Olivia Martin](name)\\n\\n      - My full name is [Christopher Davis](name)\\n\\n      - I am [Sophia Garcia](name)\\n\\n      - Call me [Michael Miller](name)\\n\\n      - I go by the name of [Grace Rodriguez](name)\\n\\n\\n      # Casual Name Providing (ASR Style)\\n\\n      - I''m [Mike](name)\\n\\n      - Call me [Liz](name)\\n\\n      - This is [Jim](name)\\n\\n      - It''s [Sarah](name)\\n\\n      - Just [Emma](name) here\\n\\n      - I go by [Liv](name)\\n\\n      - People know me as [Chris](name)\\n\\n      - I''m [Soph](name)\\n\\n      - You can call me [Mike](name)\\n\\n      - My friends call me [Gracie](name)\\n\\n\\n      # Formal Name Providing\\n\\n      - My name is [John Doe](name)\\n\\n      - I am [Elizabeth Smith](name)\\n\\n      - You may call me [Mr. James Brown](name)\\n\\n      - I am [Dr. Sarah Johnson](name)\\n\\n      - Please address me as [Professor Emma Wilson](name)\\n\\n      - I am known as [Mrs. Olivia Martin](name)\\n\\n      - My full name is [Christopher Davis](name)\\n\\n      - I am [Sophia Garcia](name)\\n\\n      - Call me [Michael Miller](name)\\n\\n      - I go by the name of [Grace Rodriguez](name)\\n\\n\\n      # Casual Name Providing\\n\\n      - I''m [Mike](name)\\n\\n      - Call me [Liz](name)\\n\\n      - This is [Jim](name)\\n\\n      - It''s [Sarah](name)\\n\\n      - Just [Emma](name) here\\n\\n      - I go by [Liv](name)\\n\\n      - People know me as [Chris](name)\\n\\n      - I''m [Soph](name)\\n\\n      - You can call me [Mike](name)\\n\\n      - My friends call me [Gracie](name)\\n\\n      '\\n    intent: provide_name\\n  provide_phone:\\n    examples: '# Formal Phone Providing (ASR Style)\\n\\n      - My contact number is [123-456-7890](phone)\\n\\n      - You may reach me at [987-654-3210](phone)\\n\\n      - My telephone number is [555-123-4567](phone)\\n\\n      - Please call me on [456-789-0123](phone)\\n\\n      - I can be contacted at [321-654-9870](phone)\\n\\n      - My direct line is [654-321-0987](phone)\\n\\n      - You may dial [789-012-3456](phone) for me\\n\\n      - My office number is [234-567-8901](phone)\\n\\n      - Please contact me via [567-890-1234](phone)\\n\\n      - My cellular number is [890-123-4567](phone)\\n\\n      - Call me at [123-456-7890](phone)\\n\\n      - Ring me on [987-654-3210](phone)\\n\\n      - My number''s [555-123-4567](phone)\\n\\n      - Hit me up at [456-789-0123](phone)\\n\\n      - You can text me at [321-654-9870](phone)\\n\\n      - My cell is [654-321-0987](phone)\\n\\n      - Buzz me on [789-012-3456](phone)\\n\\n      - My work number is [234-567-8901](phone)\\n\\n      - Drop me a call at [567-890-1234](phone)\\n\\n      - Text my phone [890-123-4567](phone)\\n\\n\\n      # Formal Phone Providing (ASR Style)\\n\\n      - My contact number is [123-456-7890](phone)\\n\\n      - You may reach me at [987-654-3210](phone)\\n\\n      - My telephone number is [555-123-4567](phone)\\n\\n      - Please call me on [456-789-0123](phone)\\n\\n      - I can be contacted at [321-654-9870](phone)\\n\\n      - My direct line is [654-321-0987](phone)\\n\\n      - You may dial [789-012-3456](phone) for me\\n\\n      - My office number is [234-567-8901](phone)\\n\\n      - Please contact me via [567-890-1234](phone)\\n\\n      - My cellular number is [890-123-4567](phone)\\n\\n\\n      # Casual Phone Providing (ASR Style)\\n\\n      - Call me at [123-456-7890](phone)\\n\\n      - Ring me on [987-654-3210](phone)\\n\\n      - My number''s [555-123-4567](phone)\\n\\n      - Hit me up at [456-789-0123](phone)\\n\\n      - You can text me at [321-654-9870](phone)\\n\\n      - My cell is [654-321-0987](phone)\\n\\n      - Buzz me on [789-012-3456](phone)\\n\\n      - My work number is [234-567-8901](phone)\\n\\n      - Drop me a call at [567-890-1234](phone)\\n\\n      - Text my phone [890-123-4567](phone)\\n\\n\\n      # Formal Phone Providing\\n\\n      - My contact number is [123-456-7890](phone)\\n\\n      - You may reach me at [987-654-3210](phone)\\n\\n      - My telephone number is [555-123-4567](phone)\\n\\n      - Please call me on [456-789-0123](phone)\\n\\n      - I can be contacted at [321-654-9870](phone)\\n\\n      - My direct line is [654-321-0987](phone)\\n\\n      - You may dial [789-012-3456](phone) for me\\n\\n      - My office number is [234-567-8901](phone)\\n\\n      - Please contact me via [567-890-1234](phone)\\n\\n      - My cellular number is [890-123-4567](phone)\\n\\n\\n      # Casual Phone Providing\\n\\n      - Call me at [123-456-7890](phone)\\n\\n      - Ring me on [987-654-3210](phone)\\n\\n      - My number''s [555-123-4567](phone)\\n\\n      - Hit me up at [456-789-0123](phone)\\n\\n      - You can text me at [321-654-9870](phone)\\n\\n      - My cell is [654-321-0987](phone)\\n\\n      - Buzz me on [789-012-3456](phone)\\n\\n      - My work number is [234-567-8901](phone)\\n\\n      - Drop me a call at [567-890-1234](phone)\\n\\n      - Text my phone [890-123-4567](phone)\\n\\n      '\\n    intent: provide_phone\\nversion: '3.1'\\n\""
      ]
     },
     "execution_count": 30,
     "metadata": {},
     "output_type": "execute_result"
    }
   ],
   "source": [
    "yaml_str"
   ]
  },
  {
   "cell_type": "code",
   "execution_count": 31,
   "metadata": {},
   "outputs": [],
   "source": [
    "with open('data.yml', 'w') as file:\n",
    "    yaml.dump(combine, file)"
   ]
  },
  {
   "cell_type": "code",
   "execution_count": null,
   "metadata": {},
   "outputs": [],
   "source": []
  }
 ],
 "metadata": {
  "kernelspec": {
   "display_name": "rasa_env",
   "language": "python",
   "name": "python3"
  },
  "language_info": {
   "codemirror_mode": {
    "name": "ipython",
    "version": 3
   },
   "file_extension": ".py",
   "mimetype": "text/x-python",
   "name": "python",
   "nbconvert_exporter": "python",
   "pygments_lexer": "ipython3",
   "version": "3.10.13"
  }
 },
 "nbformat": 4,
 "nbformat_minor": 2
}
